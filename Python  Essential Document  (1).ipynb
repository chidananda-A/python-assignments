{
 "cells": [
  {
   "cell_type": "code",
   "execution_count": null,
   "metadata": {},
   "outputs": [],
   "source": [
    "Tripple coats:\n",
    "          \n",
    "        it is used to write some statements \n",
    "    \n",
    " \n"
   ]
  },
  {
   "cell_type": "markdown",
   "metadata": {},
   "source": [
    "# Escape Sequences\n"
   ]
  },
  {
   "cell_type": "code",
   "execution_count": 14,
   "metadata": {},
   "outputs": [
    {
     "name": "stdout",
     "output_type": "stream",
     "text": [
      "Hai \t How are you\n"
     ]
    }
   ],
   "source": [
    "print(\"Hai \\t How are you\")"
   ]
  },
  {
   "cell_type": "code",
   "execution_count": 17,
   "metadata": {},
   "outputs": [
    {
     "name": "stdout",
     "output_type": "stream",
     "text": [
      "Hai\n",
      "How are you doing \n"
     ]
    }
   ],
   "source": [
    "print(\"Hai\\nHow are you doing \")"
   ]
  },
  {
   "cell_type": "markdown",
   "metadata": {},
   "source": [
    "# Formatted output's\n"
   ]
  },
  {
   "cell_type": "code",
   "execution_count": 35,
   "metadata": {},
   "outputs": [
    {
     "name": "stdout",
     "output_type": "stream",
     "text": [
      "The Name of the person is : chidananda age is : 24 color is: Black Height is: 6.0\n"
     ]
    }
   ],
   "source": [
    "name = 'chidananda'\n",
    "age = 24\n",
    "color = 'Black'\n",
    "Height = 6.00\n",
    "print('The Name of the person is :',  name ,  'age is :' , age ,'color is:' , color , 'Height is:', Height)\n",
    "\n",
    "\n"
   ]
  },
  {
   "cell_type": "markdown",
   "metadata": {},
   "source": [
    "# Python variables and Assignment Statements \n",
    "                            "
   ]
  },
  {
   "cell_type": "code",
   "execution_count": 31,
   "metadata": {},
   "outputs": [
    {
     "data": {
      "text/plain": [
       "140711435019568"
      ]
     },
     "execution_count": 31,
     "metadata": {},
     "output_type": "execute_result"
    }
   ],
   "source": [
    "x = y=z= 30  // The value is assigning to z and that is assigning to y and y is assigning to x finally value is stored into the x \n",
    "\n",
    "\n",
    "id(X)// 30 is allocated same memory for all variables \n"
   ]
  },
  {
   "cell_type": "markdown",
   "metadata": {},
   "source": [
    "# Arithmetic Operators "
   ]
  },
  {
   "cell_type": "markdown",
   "metadata": {},
   "source": [
    "Operator               Description\n",
    "**                     For Exponents purpose has to be used \n",
    "+                      Addition operator which is to be used between two operands \n",
    "-                      substrction\n",
    "*                      Multiplication\n",
    "/                      Division\n",
    "%                      ModularDivision\n",
    "//                     Floordivision ..which will give the Lowest value\n"
   ]
  },
  {
   "cell_type": "markdown",
   "metadata": {},
   "source": [
    "# Comparision Operators "
   ]
  },
  {
   "cell_type": "markdown",
   "metadata": {},
   "source": [
    "operator              Description \n",
    "==                    it compares two values each other if its satisfied it returns true orelse fasle\n",
    "<                     Less than\n",
    ">                     Greater than\n",
    "<=                    Less than is equl to \n",
    ">=                    Greate than are equal to\n",
    "!=                    Not equal to"
   ]
  },
  {
   "cell_type": "markdown",
   "metadata": {},
   "source": [
    "# Logical Operators "
   ]
  },
  {
   "cell_type": "code",
   "execution_count": null,
   "metadata": {},
   "outputs": [],
   "source": [
    "operator            Description\n",
    "AND                 its must be true  when both conditions should be satisfied\n",
    "OR                 Any one of the cindition is satisfied then it will be true if both are false then its false \n",
    "NOT                Inverts to\n"
   ]
  },
  {
   "cell_type": "markdown",
   "metadata": {},
   "source": [
    "# Memberships Operators"
   ]
  },
  {
   "cell_type": "markdown",
   "metadata": {},
   "source": [
    "operators \n",
    "is \n",
    "is not"
   ]
  },
  {
   "cell_type": "markdown",
   "metadata": {},
   "source": [
    "# Identity Operators "
   ]
  },
  {
   "cell_type": "markdown",
   "metadata": {},
   "source": [
    "operators\n",
    "Not \n",
    "NOt in "
   ]
  },
  {
   "cell_type": "markdown",
   "metadata": {},
   "source": [
    "# Bitwise Operators "
   ]
  },
  {
   "cell_type": "code",
   "execution_count": 43,
   "metadata": {},
   "outputs": [
    {
     "data": {
      "text/plain": [
       "False"
      ]
     },
     "execution_count": 43,
     "metadata": {},
     "output_type": "execute_result"
    }
   ],
   "source": [
    "\n",
    "    \n",
    "a= 10 \n",
    "b = 20\n",
    "a < 9 & b<30\n",
    "\n"
   ]
  },
  {
   "cell_type": "code",
   "execution_count": 41,
   "metadata": {},
   "outputs": [
    {
     "data": {
      "text/plain": [
       "False"
      ]
     },
     "execution_count": 41,
     "metadata": {},
     "output_type": "execute_result"
    }
   ],
   "source": [
    "a= 30 \n",
    "b= 40\n",
    "a > 20 | b < 50 "
   ]
  },
  {
   "cell_type": "raw",
   "metadata": {},
   "source": [
    " Bitwise ^ operator\n",
    "Bitwise << Leftshift \n",
    "Bitwise >> Rightshift\n"
   ]
  },
  {
   "cell_type": "markdown",
   "metadata": {},
   "source": [
    "# Assignment Operator"
   ]
  },
  {
   "cell_type": "raw",
   "metadata": {},
   "source": [
    "operator            Description\n",
    "=                   Assignment\n",
    "+=                  Addition Assignment(a+=b , a= a+b)\n",
    "-=                  substraction Assignment(a-=b , a=a-b)\n",
    "*=                  Product Assignment(a*=b  , a= a*b)\n",
    "/=                  Division Assignment (a/=b , a=a/b)\n",
    "%=                  Modulardivison Assignment (a%=b , a= a%b)"
   ]
  },
  {
   "cell_type": "markdown",
   "metadata": {},
   "source": [
    "string inside single coat or Double coat :\n",
    "                            \n",
    "                             print('hai how are you')\n",
    "                             or\n",
    "                print(\"hai how are you\")\n",
    "               \n"
   ]
  }
 ],
 "metadata": {
  "kernelspec": {
   "display_name": "Python 3",
   "language": "python",
   "name": "python3"
  },
  "language_info": {
   "codemirror_mode": {
    "name": "ipython",
    "version": 3
   },
   "file_extension": ".py",
   "mimetype": "text/x-python",
   "name": "python",
   "nbconvert_exporter": "python",
   "pygments_lexer": "ipython3",
   "version": "3.7.6"
  }
 },
 "nbformat": 4,
 "nbformat_minor": 4
}
